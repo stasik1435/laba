{
 "cells": [
  {
   "cell_type": "markdown",
   "metadata": {},
   "source": [
    "### Базові типи даних"
   ]
  },
  {
   "cell_type": "code",
   "execution_count": 4,
   "metadata": {},
   "outputs": [
    {
     "name": "stdout",
     "output_type": "stream",
     "text": [
      "Змінна має тип <class 'int'> Та зНачення 13 Змінна має тип <class 'float'> Та зНачення 5.2 Змінна має тип <class 'str'> Та зНачення Це буде Стрічка\n",
      "1. Змінна має тип <class 'int'> Та значення 13\n",
      "2. Змінна має тип <class 'int'> Та значення 13\n",
      "3. Змінна має тип <class 'int'> Та значення 13\n",
      "4. Змінна має тип <class 'int'> Та значення 13\n"
     ]
    }
   ],
   "source": [
    "int_1 = 13\n",
    "str_1 = 'Це буде Стрічка'\n",
    "float_1 = 5.2\n",
    "print(\"Змінна має тип\", type(int_1), \"Та значення\", int_1, \"Змінна має тип\", type(float_1), \"Та значення\", float_1, \"Змінна має тип\", type(str_1), \"Та значення\", str_1)\n",
    "\n",
    "\n",
    "print(\"1. Змінна має тип\", type(int_1), \"Та значення\", int_1)\n",
    "\n",
    "print(\"2. Змінна має тип \" + str(type(int_1)) + \" Та значення \" + str(int_1))\n",
    "\n",
    "print(\"3. Змінна має тип {0} Та значення {1}\".format(type(int_1), int_1))\n",
    "\n",
    "print(f\"4. Змінна має тип {type(int_1)} Та значення {int_1}\")"
   ]
  },
  {
   "cell_type": "markdown",
   "metadata": {},
   "source": [
    "### Комплексні дані\n",
    "## list"
   ]
  },
  {
   "cell_type": "code",
   "execution_count": 5,
   "metadata": {},
   "outputs": [
    {
     "name": "stdout",
     "output_type": "stream",
     "text": [
      "Це є тип <class 'list'> та його елементи [1, 2, 8]\n",
      "Це є тип <class 'list'> та його елементи ['String', 1, 15.2, 'Ура', ['abc', 15], '!!!!']\n",
      "Під порядковим номером 2 є значення 15.2\n",
      "Ми навчились програмувати !!!! Ура\n",
      "['String', 1, 15.2, 'Ура', ['abc', 15], '!!!!', 'Новий елемент']\n"
     ]
    }
   ],
   "source": [
    "ll_1 = list([1, 2, 8])\n",
    "print(f\"Це є тип {type(ll_1)} та його елементи {ll_1}\")\n",
    "\n",
    "ll_2 = [\"String\", 1, 15.2, \"Ура\" , [\"abc\", 15], \"!!!!\"]\n",
    "print(f\"Це є тип {type(ll_2)} та його елементи {ll_2}\")\n",
    "print(f\"Під порядковим номером {ll_2.index(15.2)} є значення {ll_2[2]}\")\n",
    "\n",
    "print(f\"Ми навчились програмувати {ll_2[-1]} {ll_2[-3]}\")\n",
    "\n",
    "ll_2.append(\"Новий елемент\")\n",
    "print(ll_2)"
   ]
  },
  {
   "cell_type": "markdown",
   "metadata": {},
   "source": [
    "### Tuples"
   ]
  },
  {
   "cell_type": "code",
   "execution_count": 6,
   "metadata": {},
   "outputs": [
    {
     "name": "stdout",
     "output_type": "stream",
     "text": [
      "Це є тип <class 'tuple'> та його елементи ('String', 1, 15.2, 'Ура', ['abc', 15], '!!!!', 'Новий елемент')\n",
      "1\n"
     ]
    }
   ],
   "source": [
    "tt = tuple(ll_2)\n",
    "print(f\"Це є тип {type(tt)} та його елементи {tt}\")\n",
    "print(tt.count('Ура'))"
   ]
  },
  {
   "cell_type": "markdown",
   "metadata": {},
   "source": [
    "### Set "
   ]
  },
  {
   "cell_type": "code",
   "execution_count": 7,
   "metadata": {},
   "outputs": [
    {
     "name": "stdout",
     "output_type": "stream",
     "text": [
      "Це є тип даних <class 'set'> та його елементи {'String', 1, 'string', 'abc'}\n",
      "Ми добавили та видалили елементи, нові елементи Сету {1, 'string', 'abc'}\n"
     ]
    }
   ],
   "source": [
    "ss = {\"String\", \"abc\", \"string\", 1, 1.0, \"abc\"}\n",
    "print(f\"Це є тип даних {type(ss)} та його елементи {ss}\")\n",
    "ss.remove(\"String\")\n",
    "ss.add(\"abc\")\n",
    "print(f\"Ми добавили та видалили елементи, нові елементи Сету {ss}\")"
   ]
  },
  {
   "cell_type": "markdown",
   "metadata": {},
   "source": [
    "### Age "
   ]
  },
  {
   "cell_type": "code",
   "execution_count": 8,
   "metadata": {},
   "outputs": [
    {
     "name": "stdout",
     "output_type": "stream",
     "text": [
      "Елементи словника {'name': 'Datekk', 'Мій вік': 19, 'age': None} та значення name дорівнює Datekk\n",
      "Додали / видалили нове значення {'Мій вік': 19, 'age': None, 'Нове значення': 'New'}\n"
     ]
    }
   ],
   "source": [
    "age = \"Мій вік\"\n",
    "name = \"name\"\n",
    "dd = {\"name\": \"Yura\", age: 19, \"age\": None, age: 19, name: \"Datekk\"}\n",
    "print(f\"Елементи словника {dd} та значення name дорівнює {dd['name']}\")\n",
    "dd['Нове значення'] = \"New\"\n",
    "dd.pop('name')\n",
    "print(f\"Додали / видалили нове значення {dd}\")"
   ]
  },
  {
   "cell_type": "markdown",
   "metadata": {},
   "source": [
    "### Константи"
   ]
  },
  {
   "cell_type": "code",
   "execution_count": 9,
   "metadata": {},
   "outputs": [
    {
     "name": "stdout",
     "output_type": "stream",
     "text": [
      "Значення False це не те саме що константа False\n"
     ]
    }
   ],
   "source": [
    "Falses = \"False\"\n",
    "print(f\"Значення {Falses} це не те саме що константа {False}\")"
   ]
  },
  {
   "cell_type": "markdown",
   "metadata": {},
   "source": [
    "### Pобота з вбуваними функціями"
   ]
  },
  {
   "cell_type": "code",
   "execution_count": 10,
   "metadata": {},
   "outputs": [
    {
     "name": "stdout",
     "output_type": "stream",
     "text": [
      "nice\n",
      "12.5 є рівним 12.5\n",
      "Моділі рівні\n",
      "12.51\n"
     ]
    }
   ],
   "source": [
    "def my_pretty_function(): # Функція написана користувачем\n",
    "    print(\"nice\")\n",
    "\n",
    "my_pretty_function()\n",
    "\n",
    "print(abs(-12.5), f\"є рівним {abs(12.5)}\")\n",
    "print(\"Моділі рівні\" if abs(-12.5) == abs(12.5) else \"Вони не рівні\")\n",
    "\n",
    "print(round(12.5125, 2))"
   ]
  },
  {
   "cell_type": "markdown",
   "metadata": {},
   "source": [
    "### Робота з циклами  while & for"
   ]
  },
  {
   "cell_type": "code",
   "execution_count": 11,
   "metadata": {},
   "outputs": [
    {
     "name": "stdout",
     "output_type": "stream",
     "text": [
      "Значення а = 1\n",
      "Це не виконається\n",
      "Значення а = 2\n",
      "Це не виконається\n",
      "Значення а = 4\n",
      "Це не виконається\n",
      "Значення а = 5\n",
      "Це не виконається\n",
      "Перервали цикл на значенні 6\n",
      "?+??+??+??+??+??+??+??+??+??+? Закінчили з while ?+??+??+??+??+??+??+??+??+??+?\n",
      "проходимо в циклі елемент String його тип <class 'str'>\n",
      "проходимо в циклі елемент 1 його тип <class 'int'>\n",
      "проходимо в циклі елемент 15.2 його тип <class 'float'>\n",
      "проходимо в циклі елемент Ура його тип <class 'str'>\n",
      "проходимо в циклі елемент ['abc', 15] його тип <class 'list'>\n",
      "проходимо в циклі елемент !!!! його тип <class 'str'>\n",
      "проходимо в циклі елемент Новий елемент його тип <class 'str'>\n",
      "?+??+??+??+??+??+??+??+??+??+? Закінчили перший приклад з for ?+??+??+??+??+??+??+??+??+??+?\n",
      "2\n",
      "5\n",
      "8\n",
      "['Проходимо ітерацію 1', 'Проходимо ітерацію 2']\n"
     ]
    }
   ],
   "source": [
    "delimitter = \"?+?\"*10\n",
    "a = 0\n",
    "while True: # подвійна перевірка умови трохи неправильно\n",
    "    a += 1   \n",
    "    if a > 5:\n",
    "        print(f\"Перервали цикл на значенні {a}\")\n",
    "        break\n",
    "    elif a == 3:\n",
    "        continue\n",
    "    \n",
    "    print(f\"Значення а = {a}\")\n",
    "    print(\"Це не виконається\")\n",
    "print(delimitter, \"Закінчили з while\", delimitter)   \n",
    "\n",
    "for i in ll_2:\n",
    "    print(f\"проходимо в циклі елемент {i} його тип {type(i)}\")\n",
    "print(delimitter, \"Закінчили перший приклад з for\", delimitter) \n",
    "\n",
    "for i in range(2, 10, 3): # (start, stop, step)\n",
    "    print(i) \n",
    "\n",
    "print(list(f\"Проходимо ітерацію {one_line}\" for one_line in [1, 2]))"
   ]
  },
  {
   "cell_type": "markdown",
   "metadata": {},
   "source": [
    "### Розгалуження"
   ]
  },
  {
   "cell_type": "code",
   "execution_count": 1,
   "metadata": {},
   "outputs": [
    {
     "name": "stdout",
     "output_type": "stream",
     "text": [
      "Значить А=True\n",
      "Це виконається!!!\n"
     ]
    }
   ],
   "source": [
    "A = True\n",
    "print(\"Значить А=True\" if A else \"Значить А=False\")\n",
    "\n",
    "A = 5\n",
    "if A > 5:\n",
    "    print(\"Це не виконається\")\n",
    "elif A == 1:\n",
    "    print(\"Це не виконається\")\n",
    "elif A != 2:\n",
    "    print(\"Це виконається!!!\")\n",
    "else:\n",
    "    print(\"гарантовано фолс\")\n",
    "\n"
   ]
  },
  {
   "cell_type": "markdown",
   "metadata": {},
   "source": [
    "### Exceptions"
   ]
  },
  {
   "cell_type": "code",
   "execution_count": 3,
   "metadata": {},
   "outputs": [
    {
     "name": "stdout",
     "output_type": "stream",
     "text": [
      "[10.0, 1.4285714285714286, 1.1111111111111112]\n",
      "Цей текст не виводиться бо сталась помилка\n"
     ]
    }
   ],
   "source": [
    "ll = [1, 7, 9]\n",
    "\n",
    "print([10 / x for x in ll])\n",
    "\n",
    "print(\"Цей текст не виводиться бо сталась помилка\")"
   ]
  },
  {
   "cell_type": "code",
   "execution_count": 4,
   "metadata": {},
   "outputs": [
    {
     "name": "stdout",
     "output_type": "stream",
     "text": [
      "Сталася помилка!!, ми виконали raise\n",
      "Сталася помилка!! =>>  division by zero\n",
      "Випадковий вибір Str\n",
      "Сталася помилка!! =>>  unsupported operand type(s) for /: 'int' and 'str'\n",
      "Це виведеться завждиб чи є помилка чи її немає\n"
     ]
    }
   ],
   "source": [
    "try:\n",
    "    raise\n",
    "except:\n",
    "    print(\"Сталася помилка!!, ми виконали raise\")\n",
    "\n",
    "\n",
    "A = 0\n",
    "try:\n",
    "    print(\"Що буде якщо\", 10/A, \"?\")\n",
    "except Exception as e:\n",
    "    print(\"Сталася помилка!! =>> \", e)\n",
    "\n",
    "import random\n",
    "A = random.choice([\"Str\", 15, 0])\n",
    "print(f\"Випадковий вибір {A}\")\n",
    "try:\n",
    "    print(\"Що буде якщо\", 10/A, \"?\")\n",
    "    #print(non_exist_variable)\n",
    "    print(\"Це без помилок\")\n",
    "except (ZeroDivisionError, NameError, TypeError) as e:\n",
    "    print(\"Сталася помилка!! =>> \", e)\n",
    "finally:\n",
    "    print(\"Це виведеться завждиб чи є помилка чи її немає\")"
   ]
  },
  {
   "cell_type": "markdown",
   "metadata": {},
   "source": [
    "### Робота з контекст менеджерами"
   ]
  },
  {
   "cell_type": "code",
   "execution_count": 5,
   "metadata": {},
   "outputs": [
    {
     "name": "stdout",
     "output_type": "stream",
     "text": [
      "ths is first line\n",
      "\n",
      "\n",
      "\n",
      "15 4 58 \n",
      "\n",
      "\n",
      "\n",
      "This is final\n",
      "[]\n"
     ]
    }
   ],
   "source": [
    "#f = open(\"text.txt\", \"r\")\n",
    "#print(f.readlines())\n",
    "#f.close()\n",
    "\n",
    "with open(\"text.txt\", \"r\") as f:\n",
    "    for line in f:\n",
    "        print(line)\n",
    "    print(f.readlines()) ### ??? \n",
    "    "
   ]
  },
  {
   "cell_type": "markdown",
   "metadata": {},
   "source": [
    "### Lambdas"
   ]
  },
  {
   "cell_type": "code",
   "execution_count": 6,
   "metadata": {},
   "outputs": [
    {
     "name": "stdout",
     "output_type": "stream",
     "text": [
      "Це просто функція: <function main at 0x0000027107642560>\n",
      "Це її виклик функції: Цей код написав: Юрій РР\n",
      "Це просто функція (лямбда): <function <lambda> at 0x0000027107642C20>\n",
      "Це її виклик: Цей код написав: Юрій Рудкевич\n"
     ]
    }
   ],
   "source": [
    "def main(first:str, last:str):\n",
    "    return f'Цей код написав: {first} {last}'\n",
    "\n",
    "print(\"Це просто функція:\", main)\n",
    "print(\"Це її виклик функції:\", main('Юрій', 'РР'))\n",
    "\n",
    "this_is_lambda = lambda first, last: f'Цей код написав: {first} {last}'\n",
    "print(\"Це просто функція (лямбда):\", this_is_lambda)\n",
    "print(\"Це її виклик:\", this_is_lambda('Юрій', 'Рудкевич'))"
   ]
  }
 ],
 "metadata": {
  "kernelspec": {
   "display_name": "Python 3.11.0 64-bit",
   "language": "python",
   "name": "python3"
  },
  "language_info": {
   "codemirror_mode": {
    "name": "ipython",
    "version": 3
   },
   "file_extension": ".py",
   "mimetype": "text/x-python",
   "name": "python",
   "nbconvert_exporter": "python",
   "pygments_lexer": "ipython3",
   "version": "3.11.0"
  },
  "orig_nbformat": 4,
  "vscode": {
   "interpreter": {
    "hash": "de47f5c92c0ee6f12a59a5613ac5feff6aab19ddff207ba0b3964cced08c4ccc"
   }
  }
 },
 "nbformat": 4,
 "nbformat_minor": 2
}
